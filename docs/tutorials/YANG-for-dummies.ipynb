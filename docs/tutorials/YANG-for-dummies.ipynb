{
 "cells": [
  {
   "cell_type": "markdown",
   "metadata": {},
   "source": [
    "# YANG for Dummies!\n",
    "\n",
    "Most people are excited to hear about the new projects from NetworkToCode, but quickly discover that there are a lot of moving parts that present a steep learning curve.  Community contributions will be critical to the success and adoption of these projects.  The groundwork has already been laid for IOS and JunOS drivers, so I want to document the path to onboarding completely new drivers.  I'll demonstrate this based on David Barroso's great article titled [\"YANG for dummies\"](https://napalm-automation.net/yang-for-dummies/).  \n",
    "\n",
    "- Create yang model in `./yang/dummies/models/star-wars/napalm-star-wars.yang`\n",
    "  - ```\n",
    "    dummies\n",
    "    └── models\n",
    "       ├── napalm-star-wars\n",
    "       │  └── napalm-star-wars.yang\n",
    "       └── napalm-star-wars-library.json\n",
    "    ```\n",
    "    - Copied from [Napalm-Automation](https://napalm-automation.net/yang-for-dummies/)\n",
    "  - Create the library file (minus the comment): `cat napalm-star-wars-library.json`\n",
    "    ```\n",
    "    {\n",
    "        \"ietf-yang-library:modules-state\": {\n",
    "            \"module-set-id\": \"6bd894f2-9168-484e-a0bf-f3ed38d864f9\",\n",
    "            \"module\": [\n",
    "                {\n",
    "                    \"name\": \"napalm-star-wars\",\n",
    "                    \"revision\": \"2019-08-31\",  # <- This key *must* be present, see RFC8040\n",
    "                    \"conformance-type\": \"implement\"\n",
    "                }\n",
    "            ]\n",
    "        }\n",
    "    }\n",
    "    ```\n",
    "    [RFC8040](https://tools.ietf.org/html/rfc8040)\n",
    "  - `head napalm-star-wars.yang`\n",
    "    ```\n",
    "    // module name\n",
    "    module napalm-star-wars {\n",
    "\n",
    "        // boilerplate\n",
    "        yang-version \"1\";\n",
    "        namespace \"https://napalm-yang.readthedocs.io/yang/napalm-star-wars\";\n",
    "\n",
    "        prefix \"napalm-star-wars\";\n",
    "        revision \"2019-08-31\" {  # <- This *must* match the revision above.\n",
    "          description\n",
    "              \"initial version\";\n",
    "          reference \"0.0.1\";\n",
    "        }\n",
    "        ...\n",
    "    ```\n",
    "- Update module paths in `./ntc_rosetta/yang/__init__.py`\n",
    "- Create parser class in `./ntc_rosetta/parsers/dummies/dummy/__init__.py`\n",
    "  - Directory layout\n",
    "    ```\n",
    "    parsers/dummies <- YANG namespace (like ntc or openconfig)\n",
    "    ├── __init__.py\n",
    "    └── dummy  <- Device driver name (like ios or junos)\n",
    "       ├── __init__.py\n",
    "       └── napalm_star_wars\n",
    "          ├── __init__.py\n",
    "          └── star_wars.py  <- parser logic load YANG instance of data model\n",
    "    ```\n",
    "- Add Parser class to `./ntc_rosetta/parsers/__init__.py`\n",
    "  - `from ntc_rosetta.parsers.dummies.dummy import DummyParser`\n",
    "- TODO: actually write the parser\n",
    "- TODO: translator foo\n",
    "- Add driver to `./ntc_rosetta/drivers/[driver_name].py`\n",
    "- TODO: tests"
   ]
  },
  {
   "cell_type": "code",
   "execution_count": 12,
   "metadata": {},
   "outputs": [],
   "source": [
    "from ntc_rosetta import get_driver\n",
    "\n",
    "dummy = get_driver(\"dummy\", \"napalm_star_wars\")\n",
    "dummy_driver = dummy()"
   ]
  },
  {
   "cell_type": "markdown",
   "metadata": {},
   "source": [
    "## The dummy device\n",
    "Our dummy device is going to implement configuration through YAML files.  That's absurd you say!  YAML is a horrible format!  I don't disagree, but it's suitable for pet examples and it lives up to the \"dummy\" device name."
   ]
  },
  {
   "cell_type": "code",
   "execution_count": 13,
   "metadata": {},
   "outputs": [
    {
     "name": "stdout",
     "output_type": "stream",
     "text": [
      "---\n",
      "universe:\n",
      "  individuals:\n",
      "  - affiliation: REBEL_ALLIANCE\n",
      "    age: 57\n",
      "    name: Obi-Wan Kenobi\n",
      "  - affiliation: REBEL_ALLIANCE\n",
      "    age: 19\n",
      "    name: Luke Skywalker\n",
      "  - affiliation: EMPIRE\n",
      "    age: 42\n",
      "    name: Darth Vader\n",
      "  - affiliation: REBEL_ALLIANCE\n",
      "    age: 896\n",
      "    name: Yoda\n",
      "\n",
      "{\n",
      "  \"universe\": {\n",
      "    \"individuals\": [\n",
      "      {\n",
      "        \"affiliation\": \"REBEL_ALLIANCE\",\n",
      "        \"age\": 57,\n",
      "        \"name\": \"Obi-Wan Kenobi\"\n",
      "      },\n",
      "      {\n",
      "        \"affiliation\": \"REBEL_ALLIANCE\",\n",
      "        \"age\": 19,\n",
      "        \"name\": \"Luke Skywalker\"\n",
      "      },\n",
      "      {\n",
      "        \"affiliation\": \"EMPIRE\",\n",
      "        \"age\": 42,\n",
      "        \"name\": \"Darth Vader\"\n",
      "      },\n",
      "      {\n",
      "        \"affiliation\": \"REBEL_ALLIANCE\",\n",
      "        \"age\": 896,\n",
      "        \"name\": \"Yoda\"\n",
      "      }\n",
      "    ]\n",
      "  }\n",
      "}\n"
     ]
    }
   ],
   "source": [
    "import json\n",
    "# NOTE: you will need to install a YAML library of your \n",
    "# choosing *from the jupyter console* for this to work\n",
    "from ruamel.yaml import YAML\n",
    "\n",
    "with open(\"data/star_wars/universe.yml\") as f:\n",
    "    config = f.read()\n",
    "\n",
    "yaml = YAML()\n",
    "config_data = yaml.load(config)\n",
    "\n",
    "print(config)\n",
    "print(json.dumps(config_data, indent=2))\n"
   ]
  },
  {
   "cell_type": "code",
   "execution_count": 14,
   "metadata": {},
   "outputs": [
    {
     "name": "stdout",
     "output_type": "stream",
     "text": [
      "+--rw napalm-star-wars:universe\n",
      "   +--rw individual* [name]\n",
      "      +--rw affiliation? <identityref>\n",
      "      +--rw age? <age(uint16)>\n",
      "      +--rw name <string>\n",
      "\n"
     ]
    }
   ],
   "source": [
    "# Let's see if we properly loaded the DataModel from the new YANG file\n",
    "print(dummy_driver.get_datamodel().ascii_tree())"
   ]
  },
  {
   "cell_type": "code",
   "execution_count": 22,
   "metadata": {},
   "outputs": [
    {
     "name": "stdout",
     "output_type": "stream",
     "text": [
      "ordereddict([('universe', ordereddict([('individuals', [ordereddict([('affiliation', 'REBEL_ALLIANCE'), ('age', 57), ('name', 'Obi-Wan Kenobi')]), ordereddict([('affiliation', 'REBEL_ALLIANCE'), ('age', 19), ('name', 'Luke Skywalker')]), ordereddict([('affiliation', 'EMPIRE'), ('age', 42), ('name', 'Darth Vader')]), ordereddict([('affiliation', 'REBEL_ALLIANCE'), ('age', 896), ('name', 'Yoda')])])]))])\n"
     ]
    },
    {
     "ename": "AttributeError",
     "evalue": "'CommentedMap' object has no attribute 'splitlines'",
     "output_type": "error",
     "traceback": [
      "\u001b[0;31m---------------------------------------------------------------------------\u001b[0m",
      "\u001b[0;31mAttributeError\u001b[0m                            Traceback (most recent call last)",
      "\u001b[0;32m<ipython-input-22-2fea215020bb>\u001b[0m in \u001b[0;36m<module>\u001b[0;34m\u001b[0m\n\u001b[1;32m     59\u001b[0m \u001b[0;34m\u001b[0m\u001b[0m\n\u001b[1;32m     60\u001b[0m \u001b[0mmy_universe\u001b[0m \u001b[0;34m=\u001b[0m \u001b[0mDummyParser\u001b[0m\u001b[0;34m(\u001b[0m\u001b[0mdummy_driver\u001b[0m\u001b[0;34m.\u001b[0m\u001b[0mget_datamodel\u001b[0m\u001b[0;34m(\u001b[0m\u001b[0;34m)\u001b[0m\u001b[0;34m,\u001b[0m \u001b[0mnative\u001b[0m\u001b[0;34m=\u001b[0m\u001b[0mconfig_data\u001b[0m\u001b[0;34m)\u001b[0m\u001b[0;34m\u001b[0m\u001b[0;34m\u001b[0m\u001b[0m\n\u001b[0;32m---> 61\u001b[0;31m \u001b[0mmy_universe\u001b[0m\u001b[0;34m.\u001b[0m\u001b[0mprocess\u001b[0m\u001b[0;34m(\u001b[0m\u001b[0;34m)\u001b[0m\u001b[0;34m\u001b[0m\u001b[0;34m\u001b[0m\u001b[0m\n\u001b[0m",
      "\u001b[0;32m/usr/local/lib/python3.6/site-packages/yangify/parser/__init__.py\u001b[0m in \u001b[0;36mprocess\u001b[0;34m(self, validate)\u001b[0m\n\u001b[1;32m    343\u001b[0m             \u001b[0mvalidate\u001b[0m\u001b[0;34m:\u001b[0m \u001b[0mValidates\u001b[0m \u001b[0mthe\u001b[0m \u001b[0mobject\u001b[0m \u001b[0mbefore\u001b[0m \u001b[0mreturning\u001b[0m \u001b[0mit\u001b[0m\u001b[0;34m\u001b[0m\u001b[0;34m\u001b[0m\u001b[0m\n\u001b[1;32m    344\u001b[0m         \"\"\"\n\u001b[0;32m--> 345\u001b[0;31m         \u001b[0mself\u001b[0m\u001b[0;34m.\u001b[0m\u001b[0myy\u001b[0m\u001b[0;34m.\u001b[0m\u001b[0minit\u001b[0m\u001b[0;34m(\u001b[0m\u001b[0;34m)\u001b[0m\u001b[0;34m\u001b[0m\u001b[0;34m\u001b[0m\u001b[0m\n\u001b[0m\u001b[1;32m    346\u001b[0m         \u001b[0mr\u001b[0m \u001b[0;34m=\u001b[0m \u001b[0msuper\u001b[0m\u001b[0;34m(\u001b[0m\u001b[0;34m)\u001b[0m\u001b[0;34m.\u001b[0m\u001b[0m_process_container\u001b[0m\u001b[0;34m(\u001b[0m\u001b[0mself\u001b[0m\u001b[0;34m.\u001b[0m\u001b[0mconfig\u001b[0m\u001b[0;34m,\u001b[0m \u001b[0mself\u001b[0m\u001b[0;34m.\u001b[0m\u001b[0mstate\u001b[0m\u001b[0;34m,\u001b[0m \u001b[0;34m[\u001b[0m\u001b[0;34m]\u001b[0m\u001b[0;34m)\u001b[0m\u001b[0;34m\u001b[0m\u001b[0;34m\u001b[0m\u001b[0m\n\u001b[1;32m    347\u001b[0m         \u001b[0mobj\u001b[0m \u001b[0;34m=\u001b[0m \u001b[0mself\u001b[0m\u001b[0;34m.\u001b[0m\u001b[0mdm\u001b[0m\u001b[0;34m.\u001b[0m\u001b[0mfrom_raw\u001b[0m\u001b[0;34m(\u001b[0m\u001b[0mr\u001b[0m\u001b[0;34m)\u001b[0m\u001b[0;34m\u001b[0m\u001b[0;34m\u001b[0m\u001b[0m\n",
      "\u001b[0;32m<ipython-input-22-2fea215020bb>\u001b[0m in \u001b[0;36minit\u001b[0;34m(self)\u001b[0m\n\u001b[1;32m     52\u001b[0m             \u001b[0mprint\u001b[0m\u001b[0;34m(\u001b[0m\u001b[0mself\u001b[0m\u001b[0;34m.\u001b[0m\u001b[0mroot_native\u001b[0m\u001b[0;34m)\u001b[0m\u001b[0;34m\u001b[0m\u001b[0;34m\u001b[0m\u001b[0m\n\u001b[1;32m     53\u001b[0m             self.root_native[\"universe\"] = parse_indented_config(\n\u001b[0;32m---> 54\u001b[0;31m                 \u001b[0mself\u001b[0m\u001b[0;34m.\u001b[0m\u001b[0mroot_native\u001b[0m\u001b[0;34m[\u001b[0m\u001b[0;34m\"universe\"\u001b[0m\u001b[0;34m]\u001b[0m\u001b[0;34m.\u001b[0m\u001b[0msplitlines\u001b[0m\u001b[0;34m(\u001b[0m\u001b[0;34m)\u001b[0m\u001b[0;34m\u001b[0m\u001b[0;34m\u001b[0m\u001b[0m\n\u001b[0m\u001b[1;32m     55\u001b[0m             )\n\u001b[1;32m     56\u001b[0m             \u001b[0mself\u001b[0m\u001b[0;34m.\u001b[0m\u001b[0mnative\u001b[0m\u001b[0;34m[\u001b[0m\u001b[0;34m\"universe\"\u001b[0m\u001b[0;34m]\u001b[0m \u001b[0;34m=\u001b[0m \u001b[0mself\u001b[0m\u001b[0;34m.\u001b[0m\u001b[0mroot_native\u001b[0m\u001b[0;34m[\u001b[0m\u001b[0;34m\"universe\"\u001b[0m\u001b[0;34m]\u001b[0m\u001b[0;34m\u001b[0m\u001b[0;34m\u001b[0m\u001b[0m\n",
      "\u001b[0;31mAttributeError\u001b[0m: 'CommentedMap' object has no attribute 'splitlines'"
     ]
    }
   ],
   "source": [
    "from typing import Any, Dict, Iterator, Optional, Tuple, cast\n",
    "\n",
    "from ntc_rosetta.helpers import json_helpers as jh\n",
    "from yangify import parser\n",
    "from yangify.parser import Parser, ParserData\n",
    "from yangify.parser.text_tree import parse_indented_config\n",
    "\n",
    "\n",
    "class PersonalData(Parser):\n",
    "    class Yangify(ParserData):\n",
    "        path = \"/napalm-star-wars:individual/personal-data\"\n",
    "\n",
    "        def extract_elements(self) -> Iterator[Tuple[str, Dict[str, Any]]]:\n",
    "            for k, v in jh.query(\"vlan\", self.native, default={}).items():\n",
    "                if k == \"#text\":\n",
    "                    continue\n",
    "                yield k, cast(Dict[str, Any], v)\n",
    "\n",
    "    def name(self) -> Optional[str]:\n",
    "        v = jh.query('name.\"#text\"', self.yy.native)\n",
    "        if v is not None:\n",
    "            return str(v)\n",
    "        else:\n",
    "            return None\n",
    "\n",
    "    def age(self) -> int:\n",
    "        return int(self.yy.key)\n",
    "\n",
    "    def affiliation(self) -> bool:\n",
    "        return not jh.query('shutdown.\"#standalone\"', self.yy.native)\n",
    "\n",
    "\n",
    "class Universe(Parser):\n",
    "    class Yangify(ParserData):\n",
    "        path = \"/napalm-star-wars:universe/individual\"\n",
    "        metadata = {\"key\": \"dev_conf\", \"command\": \"show running-config all\"}\n",
    "\n",
    "        def pre_process(self) -> None:\n",
    "            self.native: Dict[str, Any] = self.root_native[\"dev_conf\"]\n",
    "\n",
    "    personal_data = PersonalData\n",
    "\n",
    "\n",
    "class DummyParser(parser.RootParser):\n",
    "    \"\"\"\n",
    "    DummyParser expects as native data a dictionary where the `universe`\n",
    "    key is reserved for the device configuration.\n",
    "    \"\"\"\n",
    "\n",
    "    class Yangify(parser.ParserData):\n",
    "        def init(self) -> None:\n",
    "            print(self.root_native)\n",
    "            self.root_native[\"universe\"] = parse_indented_config(\n",
    "                self.root_native[\"universe\"].splitlines()\n",
    "            )\n",
    "            self.native[\"universe\"] = self.root_native[\"universe\"]\n",
    "\n",
    "    universe = Universe\n",
    "\n",
    "my_universe = DummyParser(dummy_driver.get_datamodel(), native=config_data)\n",
    "my_universe.process()"
   ]
  },
  {
   "cell_type": "code",
   "execution_count": 11,
   "metadata": {},
   "outputs": [
    {
     "name": "stdout",
     "output_type": "stream",
     "text": [
      "{}\n"
     ]
    }
   ],
   "source": [
    "# parsed = dummy_driver.parse(native={\"dev_conf\": config})\n",
    "# print(json.dumps(parsed.raw_value(), indent=4))"
   ]
  },
  {
   "cell_type": "code",
   "execution_count": null,
   "metadata": {},
   "outputs": [],
   "source": []
  }
 ],
 "metadata": {
  "kernelspec": {
   "display_name": "Python 3",
   "language": "python",
   "name": "python3"
  },
  "language_info": {
   "codemirror_mode": {
    "name": "ipython",
    "version": 3
   },
   "file_extension": ".py",
   "mimetype": "text/x-python",
   "name": "python",
   "nbconvert_exporter": "python",
   "pygments_lexer": "ipython3",
   "version": "3.6.8"
  }
 },
 "nbformat": 4,
 "nbformat_minor": 2
}
