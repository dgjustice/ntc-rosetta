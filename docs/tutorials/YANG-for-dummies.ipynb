{
 "cells": [
  {
   "cell_type": "markdown",
   "metadata": {},
   "source": [
    "# YANG for Dummies!\n",
    "\n",
    "Most people are excited to hear about the new projects from NetworkToCode, but quickly discover that there are a lot of moving parts that present a steep learning curve.  Community contributions will be critical to the success and adoption of these projects.  The groundwork has already been laid for IOS and JunOS drivers, so I want to document the path to onboarding completely new drivers.  I'll demonstrate this based on David Barroso's great article titled [\"YANG for dummies\"](https://napalm-automation.net/yang-for-dummies/).  \n",
    "\n",
    "- Create yang model in `./yang/dummies/models/star-wars/napalm-star-wars.yang`\n",
    "  - ```\n",
    "    dummies\n",
    "    └── models\n",
    "       ├── napalm-star-wars\n",
    "       │  └── napalm-star-wars.yang\n",
    "       └── napalm-star-wars-library.json\n",
    "    ```\n",
    "    - Copied from [Napalm-Automation](https://napalm-automation.net/yang-for-dummies/)\n",
    "  - Create the library file (minus the comment): `cat napalm-star-wars-library.json`\n",
    "    ```\n",
    "    {\n",
    "        \"ietf-yang-library:modules-state\": {\n",
    "            \"module-set-id\": \"6bd894f2-9168-484e-a0bf-f3ed38d864f9\",\n",
    "            \"module\": [\n",
    "                {\n",
    "                    \"name\": \"napalm-star-wars\",\n",
    "                    \"revision\": \"2019-08-31\",  # <- This key *must* be present, see RFC8040\n",
    "                    \"conformance-type\": \"implement\"\n",
    "                }\n",
    "            ]\n",
    "        }\n",
    "    }\n",
    "    ```\n",
    "    [RFC8040](https://tools.ietf.org/html/rfc8040)\n",
    "  - `head napalm-star-wars.yang`\n",
    "    ```\n",
    "    // module name\n",
    "    module napalm-star-wars {\n",
    "\n",
    "        // boilerplate\n",
    "        yang-version \"1\";\n",
    "        namespace \"https://napalm-yang.readthedocs.io/yang/napalm-star-wars\";\n",
    "\n",
    "        prefix \"napalm-star-wars\";\n",
    "        revision \"2019-08-31\" {  # <- This *must* match the revision above.\n",
    "          description\n",
    "              \"initial version\";\n",
    "          reference \"0.0.1\";\n",
    "        }\n",
    "        ...\n",
    "    ```\n",
    "- Update module paths in `./ntc_rosetta/yang/__init__.py`\n",
    "- Create parser class in `./ntc_rosetta/parsers/dummies/dummy/__init__.py`\n",
    "  - Directory layout\n",
    "    ```\n",
    "    parsers/dummies <- YANG namespace (like ntc or openconfig)\n",
    "    ├── __init__.py\n",
    "    └── dummy  <- Device driver name (like ios or junos)\n",
    "       ├── __init__.py\n",
    "       └── napalm_star_wars\n",
    "          ├── __init__.py\n",
    "          └── star_wars.py  <- parser logic load YANG instance of data model\n",
    "    ```\n",
    "- Add Parser class to `./ntc_rosetta/parsers/__init__.py`\n",
    "  - `from ntc_rosetta.parsers.dummies.dummy import DummyParser`\n",
    "- TODO: actually write the parser\n",
    "- TODO: translator foo\n",
    "- Add driver to `./ntc_rosetta/drivers/[driver_name].py`\n",
    "- TODO: tests"
   ]
  },
  {
   "cell_type": "code",
   "execution_count": 1,
   "metadata": {},
   "outputs": [],
   "source": [
    "from ntc_rosetta import get_driver\n",
    "\n",
    "dummy = get_driver(\"dummy\", \"dummies\")\n",
    "dummy_driver = dummy()"
   ]
  },
  {
   "cell_type": "markdown",
   "metadata": {},
   "source": [
    "## The dummy device\n",
    "Our dummy device is going to implement configuration through YAML files.  That's absurd you say!  YAML is a horrible format!  I don't disagree, but it's suitable for pet examples and it lives up to the \"dummy\" device name."
   ]
  },
  {
   "cell_type": "code",
   "execution_count": 2,
   "metadata": {},
   "outputs": [
    {
     "name": "stdout",
     "output_type": "stream",
     "text": [
      "---\n",
      "universe:\n",
      "  individuals:\n",
      "  - affiliation: REBEL_ALLIANCE\n",
      "    age: 57\n",
      "    name: Obi-Wan Kenobi\n",
      "  - affiliation: REBEL_ALLIANCE\n",
      "    age: 19\n",
      "    name: Luke Skywalker\n",
      "  - affiliation: EMPIRE\n",
      "    age: 42\n",
      "    name: Darth Vader\n",
      "  - affiliation: REBEL_ALLIANCE\n",
      "    age: 896\n",
      "    name: Yoda\n",
      "\n"
     ]
    }
   ],
   "source": [
    "import json\n",
    "# NOTE: you will need to install a YAML library of your \n",
    "# choosing *from the jupyter console* for this to work\n",
    "from ruamel.yaml import YAML\n",
    "\n",
    "with open(\"data/star_wars/universe.yml\") as f:\n",
    "    config = f.read()\n",
    "\n",
    "yaml = YAML()\n",
    "config_data = yaml.load(config)\n",
    "\n",
    "print(config)"
   ]
  },
  {
   "cell_type": "code",
   "execution_count": 3,
   "metadata": {},
   "outputs": [
    {
     "name": "stdout",
     "output_type": "stream",
     "text": [
      "+--rw napalm-star-wars:universe\n",
      "   +--rw individual* [name]\n",
      "      +--rw affiliation? <identityref>\n",
      "      +--rw age? <age(uint16)>\n",
      "      +--rw name <string>\n",
      "\n"
     ]
    }
   ],
   "source": [
    "# Let's see if we properly loaded the DataModel from the new YANG file\n",
    "print(dummy_driver.get_datamodel().ascii_tree())"
   ]
  },
  {
   "cell_type": "code",
   "execution_count": 4,
   "metadata": {},
   "outputs": [
    {
     "name": "stdout",
     "output_type": "stream",
     "text": [
      "{\n",
      "    \"napalm-star-wars:universe\": {\n",
      "        \"individual\": [\n",
      "            {\n",
      "                \"name\": \"Obi-Wan Kenobi\",\n",
      "                \"age\": 57,\n",
      "                \"affiliation\": \"napalm-star-wars:REBEL_ALLIANCE\"\n",
      "            },\n",
      "            {\n",
      "                \"name\": \"Luke Skywalker\",\n",
      "                \"age\": 19,\n",
      "                \"affiliation\": \"napalm-star-wars:REBEL_ALLIANCE\"\n",
      "            },\n",
      "            {\n",
      "                \"name\": \"Darth Vader\",\n",
      "                \"age\": 42,\n",
      "                \"affiliation\": \"napalm-star-wars:EMPIRE\"\n",
      "            },\n",
      "            {\n",
      "                \"name\": \"Yoda\",\n",
      "                \"age\": 896,\n",
      "                \"affiliation\": \"napalm-star-wars:REBEL_ALLIANCE\"\n",
      "            }\n",
      "        ]\n",
      "    }\n",
      "}\n"
     ]
    }
   ],
   "source": [
    "parsed = dummy_driver.parse(native={\"dev_conf\": config})\n",
    "print(json.dumps(parsed.raw_value(), indent=4))"
   ]
  },
  {
   "cell_type": "code",
   "execution_count": 5,
   "metadata": {},
   "outputs": [],
   "source": [
    "candidate = {\n",
    "    \"napalm-star-wars:universe\": {\n",
    "        \"individual\": [\n",
    "            {\n",
    "                \"name\": \"Obi-Wan Kenobi\",\n",
    "                \"age\": 57,\n",
    "                \"affiliation\": \"napalm-star-wars:REBEL_ALLIANCE\"\n",
    "            },\n",
    "            {\n",
    "                \"name\": \"Luke Skywalker\",\n",
    "                \"age\": 62,\n",
    "                \"affiliation\": \"napalm-star-wars:REBEL_ALLIANCE\"\n",
    "            },\n",
    "            {\n",
    "                \"name\": \"Yoda\",\n",
    "                \"age\": 907,\n",
    "                \"affiliation\": \"napalm-star-wars:EMPIRE\"\n",
    "            }\n",
    "        ]\n",
    "    }\n",
    "}"
   ]
  },
  {
   "cell_type": "code",
   "execution_count": 6,
   "metadata": {},
   "outputs": [
    {
     "name": "stdout",
     "output_type": "stream",
     "text": [
      "---\n",
      "universe:\n",
      "  individuals:\n",
      "  - name: Obi-Wan Kenobi\n",
      "    age: 57\n",
      "    affiliation: napalm-star-wars: REBEL_ALLIANCE\n",
      "  - name: Luke Skywalker\n",
      "    age: 62\n",
      "    affiliation: napalm-star-wars: REBEL_ALLIANCE\n",
      "  - name: Yoda\n",
      "    age: 907\n",
      "    affiliation: napalm-star-wars: EMPIRE\n",
      "\n"
     ]
    }
   ],
   "source": [
    "print(dummy_driver.translate(candidate=candidate))"
   ]
  },
  {
   "cell_type": "code",
   "execution_count": 7,
   "metadata": {},
   "outputs": [
    {
     "name": "stdout",
     "output_type": "stream",
     "text": [
      "---\n",
      "universe:\n",
      "  individuals:\n",
      "#   - name: Darth Vader\n",
      "#     age: 42\n",
      "#     affiliation: napalm-star-wars: EMPIRE\n",
      "  - name: Luke Skywalker\n",
      "    age: 62\n",
      "  - name: Yoda\n",
      "    age: 907\n",
      "    affiliation: napalm-star-wars: EMPIRE\n",
      "\n"
     ]
    }
   ],
   "source": [
    "print(dummy_driver.merge(running=parsed.raw_value(), candidate=candidate))"
   ]
  },
  {
   "cell_type": "code",
   "execution_count": 8,
   "metadata": {},
   "outputs": [
    {
     "name": "stdout",
     "output_type": "stream",
     "text": [
      "---\n",
      "universe:\n",
      "  individuals:\n",
      "  - name: Obi-Wan Kenobi\n",
      "    age: 57\n",
      "    affiliation: napalm-star-wars: REBEL_ALLIANCE\n",
      "  - name: Luke Skywalker\n",
      "    age: 62\n",
      "    affiliation: napalm-star-wars: REBEL_ALLIANCE\n",
      "  - name: Yoda\n",
      "    age: 907\n",
      "    affiliation: napalm-star-wars: EMPIRE\n",
      "\n"
     ]
    }
   ],
   "source": [
    "print(dummy_driver.merge(running=parsed.raw_value(), candidate=candidate, replace=True))"
   ]
  },
  {
   "cell_type": "code",
   "execution_count": 9,
   "metadata": {},
   "outputs": [],
   "source": [
    "running = {\n",
    "  \"napalm-star-wars:universe\": {\n",
    "    \"individual\": [\n",
    "      {\n",
    "        \"name\": \"Obi-Wan Kenobi\",\n",
    "        \"age\": 57,\n",
    "        \"affiliation\": \"napalm-star-wars:REBEL_ALLIANCE\"\n",
    "      },\n",
    "      {\n",
    "        \"name\": \"Luke Skywalker\",\n",
    "        \"age\": 62,\n",
    "        \"affiliation\": \"napalm-star-wars:REBEL_ALLIANCE\"\n",
    "      }\n",
    "    ]\n",
    "  }\n",
    "}"
   ]
  },
  {
   "cell_type": "code",
   "execution_count": 10,
   "metadata": {},
   "outputs": [],
   "source": [
    "candidate = {\n",
    "  \"napalm-star-wars:universe\": {\n",
    "    \"individual\": [\n",
    "      {\n",
    "        \"name\": \"Luke Skywalker\",\n",
    "        \"age\": 62,\n",
    "        \"affiliation\": \"napalm-star-wars:REBEL_ALLIANCE\"\n",
    "      }\n",
    "    ]\n",
    "  }\n",
    "}"
   ]
  },
  {
   "cell_type": "code",
   "execution_count": 13,
   "metadata": {},
   "outputs": [
    {
     "name": "stdout",
     "output_type": "stream",
     "text": [
      "---\n",
      "universe:\n",
      "  individuals:\n",
      "#   - name: Obi-Wan Kenobi\n",
      "#     age: 57\n",
      "#     affiliation: napalm-star-wars: REBEL_ALLIANCE\n",
      "\n"
     ]
    }
   ],
   "source": [
    "print(dummy_driver.merge(running=running, candidate=candidate))"
   ]
  },
  {
   "cell_type": "code",
   "execution_count": null,
   "metadata": {},
   "outputs": [],
   "source": []
  }
 ],
 "metadata": {
  "kernelspec": {
   "display_name": "Python 3",
   "language": "python",
   "name": "python3"
  },
  "language_info": {
   "codemirror_mode": {
    "name": "ipython",
    "version": 3
   },
   "file_extension": ".py",
   "mimetype": "text/x-python",
   "name": "python",
   "nbconvert_exporter": "python",
   "pygments_lexer": "ipython3",
   "version": "3.6.9"
  }
 },
 "nbformat": 4,
 "nbformat_minor": 2
}
